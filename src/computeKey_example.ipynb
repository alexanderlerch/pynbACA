{
 "cells": [
  {
   "cell_type": "code",
   "execution_count": null,
   "metadata": {},
   "outputs": [],
   "source": [
    "!pip install numpy matplotlib scipy pyaca"
   ]
  },
  {
   "cell_type": "code",
   "execution_count": 3,
   "metadata": {},
   "outputs": [
    {
     "name": "stderr",
     "output_type": "stream",
     "text": [
      "<frozen importlib._bootstrap>:228: RuntimeWarning: scipy._lib.messagestream.MessageStream size changed, may indicate binary incompatibility. Expected 56 from C header, got 64 from PyObject\n"
     ]
    }
   ],
   "source": [
    "import pyACA\n",
    "import numpy as np\n",
    "import matplotlib.pyplot as plt"
   ]
  },
  {
   "cell_type": "code",
   "execution_count": 6,
   "metadata": {},
   "outputs": [
    {
     "name": "stdout",
     "output_type": "stream",
     "text": [
      "Key for poke_center.wav is g min\n",
      "Key for 01-D_AMairena.wav is c min\n",
      "Key for piano.wav is C Maj\n",
      "Key for winds.wav is c min\n"
     ]
    }
   ],
   "source": [
    "file_names = ['poke_center.wav','01-D_AMairena.wav','piano.wav','winds.wav']\n",
    "# fig,axs = plt.subplots(len(file_names),1,figsize=(10,10))\n",
    "# fig.suptitle('Pitch maps for various audio files using SpectralHps')\n",
    "for idx, f in enumerate(file_names):\n",
    "    f_s, x = pyACA.ToolReadAudio('../audio/'+f)\n",
    "    cKey = pyACA.computeKey(x,f_s)\n",
    "    print(f\"Key for {f} is {cKey}\")\n",
    "# for ax in axs.flat:\n",
    "#     ax.set(xlabel='Time (s)', ylabel='f0(Hz)')\n",
    "# fig.tight_layout()"
   ]
  },
  {
   "cell_type": "code",
   "execution_count": null,
   "metadata": {},
   "outputs": [],
   "source": []
  }
 ],
 "metadata": {
  "kernelspec": {
   "display_name": "base",
   "language": "python",
   "name": "python3"
  },
  "language_info": {
   "codemirror_mode": {
    "name": "ipython",
    "version": 3
   },
   "file_extension": ".py",
   "mimetype": "text/x-python",
   "name": "python",
   "nbconvert_exporter": "python",
   "pygments_lexer": "ipython3",
   "version": "3.9.5"
  },
  "orig_nbformat": 4
 },
 "nbformat": 4,
 "nbformat_minor": 2
}
